{
 "cells": [
  {
   "cell_type": "code",
   "execution_count": 1,
   "metadata": {},
   "outputs": [],
   "source": [
    "import pandas as pd"
   ]
  },
  {
   "cell_type": "code",
   "execution_count": 2,
   "metadata": {},
   "outputs": [],
   "source": [
    "comments_df = pd.read_csv(\"../komentarze.csv\")"
   ]
  },
  {
   "cell_type": "code",
   "execution_count": 3,
   "metadata": {},
   "outputs": [
    {
     "data": {
      "text/html": [
       "<div>\n",
       "<style scoped>\n",
       "    .dataframe tbody tr th:only-of-type {\n",
       "        vertical-align: middle;\n",
       "    }\n",
       "\n",
       "    .dataframe tbody tr th {\n",
       "        vertical-align: top;\n",
       "    }\n",
       "\n",
       "    .dataframe thead th {\n",
       "        text-align: right;\n",
       "    }\n",
       "</style>\n",
       "<table border=\"1\" class=\"dataframe\">\n",
       "  <thead>\n",
       "    <tr style=\"text-align: right;\">\n",
       "      <th></th>\n",
       "      <th>article</th>\n",
       "      <th>comment</th>\n",
       "      <th>is_positive</th>\n",
       "      <th>thumbs_up</th>\n",
       "      <th>thumbs_down</th>\n",
       "      <th>Unnamed: 5</th>\n",
       "    </tr>\n",
       "  </thead>\n",
       "  <tbody>\n",
       "    <tr>\n",
       "      <th>1462</th>\n",
       "      <td>Klaudia Halejcio nagrywa córkę w... brudnej pi...</td>\n",
       "      <td>tak zwane selfi z idealną kupą. Patrzcie  i po...</td>\n",
       "      <td>0</td>\n",
       "      <td>6</td>\n",
       "      <td>1</td>\n",
       "      <td>NaN</td>\n",
       "    </tr>\n",
       "    <tr>\n",
       "      <th>1463</th>\n",
       "      <td>Klaudia Halejcio nagrywa córkę w... brudnej pi...</td>\n",
       "      <td>Zabrakło tu wielu szczegółów pani Halejcio tzn...</td>\n",
       "      <td>0</td>\n",
       "      <td>13</td>\n",
       "      <td>2</td>\n",
       "      <td>NaN</td>\n",
       "    </tr>\n",
       "    <tr>\n",
       "      <th>1464</th>\n",
       "      <td>Klaudia Halejcio nagrywa córkę w... brudnej pi...</td>\n",
       "      <td>Ciekawe w której strefie pokoju zrobiło te kup...</td>\n",
       "      <td>0</td>\n",
       "      <td>13</td>\n",
       "      <td>0</td>\n",
       "      <td>NaN</td>\n",
       "    </tr>\n",
       "    <tr>\n",
       "      <th>1465</th>\n",
       "      <td>Klaudia Halejcio nagrywa córkę w... brudnej pi...</td>\n",
       "      <td>Serio, serio ?.  Wszystkim już siada od tego z...</td>\n",
       "      <td>0</td>\n",
       "      <td>8</td>\n",
       "      <td>0</td>\n",
       "      <td>NaN</td>\n",
       "    </tr>\n",
       "    <tr>\n",
       "      <th>1466</th>\n",
       "      <td>Klaudia Halejcio nagrywa córkę w... brudnej pi...</td>\n",
       "      <td>No to właśnie dziecku na przyszłość traume zap...</td>\n",
       "      <td>0</td>\n",
       "      <td>19</td>\n",
       "      <td>0</td>\n",
       "      <td>NaN</td>\n",
       "    </tr>\n",
       "  </tbody>\n",
       "</table>\n",
       "</div>"
      ],
      "text/plain": [
       "                                                article  \\\n",
       "1462  Klaudia Halejcio nagrywa córkę w... brudnej pi...   \n",
       "1463  Klaudia Halejcio nagrywa córkę w... brudnej pi...   \n",
       "1464  Klaudia Halejcio nagrywa córkę w... brudnej pi...   \n",
       "1465  Klaudia Halejcio nagrywa córkę w... brudnej pi...   \n",
       "1466  Klaudia Halejcio nagrywa córkę w... brudnej pi...   \n",
       "\n",
       "                                                comment is_positive  \\\n",
       "1462  tak zwane selfi z idealną kupą. Patrzcie  i po...           0   \n",
       "1463  Zabrakło tu wielu szczegółów pani Halejcio tzn...           0   \n",
       "1464  Ciekawe w której strefie pokoju zrobiło te kup...           0   \n",
       "1465  Serio, serio ?.  Wszystkim już siada od tego z...           0   \n",
       "1466  No to właśnie dziecku na przyszłość traume zap...           0   \n",
       "\n",
       "      thumbs_up  thumbs_down  Unnamed: 5  \n",
       "1462          6            1         NaN  \n",
       "1463         13            2         NaN  \n",
       "1464         13            0         NaN  \n",
       "1465          8            0         NaN  \n",
       "1466         19            0         NaN  "
      ]
     },
     "execution_count": 3,
     "metadata": {},
     "output_type": "execute_result"
    }
   ],
   "source": [
    "comments_df.tail()"
   ]
  },
  {
   "cell_type": "code",
   "execution_count": 4,
   "metadata": {},
   "outputs": [],
   "source": [
    "import emoji\n",
    "def remove_emoji(string):\n",
    "    string = emoji.get_emoji_regexp().sub(\"\", string)\n",
    "    return string"
   ]
  },
  {
   "cell_type": "code",
   "execution_count": 5,
   "metadata": {},
   "outputs": [],
   "source": [
    "import string\n",
    "from stop_words import get_stop_words\n",
    "from nltk.tokenize import word_tokenize\n",
    "from nltk import pos_tag\n",
    "from nltk.corpus.reader import pl196x\n",
    "import nltk\n",
    "from nltk.corpus import stopwords\n",
    "import spacy \n",
    "\n",
    "def clean_text(text):\n",
    "    # lower text\n",
    "    text = text.lower()\n",
    "    \n",
    "    # remove emoji\n",
    "    text = remove_emoji(text)\n",
    "\n",
    "    # tokenize text and remove puncutation\n",
    "    text = [word.strip(string.punctuation) for word in text.split(\" \")]\n",
    "    \n",
    "    # remove words that contain numbers\n",
    "    text = [word for word in text if not any(c.isdigit() for c in word)]\n",
    "   \n",
    "    # remove stop words\n",
    "    stops = get_stop_words('polish')\n",
    "    words = [word for word in text if word not in stops]\n",
    "    \n",
    "    # remove empty tokens\n",
    "    text = [t for t in text if len(t) > 0]\n",
    "    text = \" \".join(text)\n",
    "    return(text)\n",
    "\n",
    "comments_df[\"comments_clean\"] = comments_df[\"comment\"].apply(lambda x: clean_text(x))"
   ]
  },
  {
   "cell_type": "code",
   "execution_count": 6,
   "metadata": {},
   "outputs": [
    {
     "data": {
      "text/plain": [
       "0    jakie to wszystko smutne plastikowy sztuczny ś...\n",
       "1    haj girlsss howa areyou iam sooo goood fajansi...\n",
       "2                    bomba dziewczyna buhaha wybuchłam\n",
       "3                                           żałosne są\n",
       "4                    kim ona jest ze ja ciagle promuja\n",
       "Name: comments_clean, dtype: object"
      ]
     },
     "execution_count": 6,
     "metadata": {},
     "output_type": "execute_result"
    }
   ],
   "source": [
    "comments_df[\"comments_clean\"].head()"
   ]
  },
  {
   "cell_type": "code",
   "execution_count": 7,
   "metadata": {},
   "outputs": [
    {
     "data": {
      "text/plain": [
       "0     1305\n",
       "1      161\n",
       ")        1\n",
       "Name: is_positive, dtype: int64"
      ]
     },
     "execution_count": 7,
     "metadata": {},
     "output_type": "execute_result"
    }
   ],
   "source": [
    "comments_df[\"is_positive\"].value_counts()"
   ]
  },
  {
   "cell_type": "code",
   "execution_count": 8,
   "metadata": {},
   "outputs": [],
   "source": [
    "from sklearn.feature_extraction.text import CountVectorizer\n",
    "vectorizer = CountVectorizer()\n",
    "dv = vectorizer.fit_transform(comments_df[\"comments_clean\"])"
   ]
  },
  {
   "cell_type": "code",
   "execution_count": 9,
   "metadata": {},
   "outputs": [],
   "source": [
    "# vectorizer.get_feature_names()"
   ]
  },
  {
   "cell_type": "code",
   "execution_count": 10,
   "metadata": {},
   "outputs": [],
   "source": [
    "dshuf = comments_df.sample(frac = 1)"
   ]
  },
  {
   "cell_type": "code",
   "execution_count": 11,
   "metadata": {},
   "outputs": [],
   "source": [
    "dtrain = dshuf[:700]\n",
    "dtest = dshuf[700:]\n",
    "dtrain_att = vectorizer.fit_transform(dtrain['comments_clean'])\n",
    "dtest_att = vectorizer.transform(dtest['comments_clean'])\n",
    "dtrain_label = dtrain['is_positive']\n",
    "dtest_label = dtest['is_positive']"
   ]
  },
  {
   "cell_type": "code",
   "execution_count": 12,
   "metadata": {},
   "outputs": [
    {
     "data": {
      "text/plain": [
       "article           767\n",
       "comment           767\n",
       "is_positive       767\n",
       "thumbs_up         767\n",
       "thumbs_down       767\n",
       "Unnamed: 5          2\n",
       "comments_clean    767\n",
       "dtype: int64"
      ]
     },
     "execution_count": 12,
     "metadata": {},
     "output_type": "execute_result"
    }
   ],
   "source": [
    "dtest.count()"
   ]
  },
  {
   "cell_type": "code",
   "execution_count": 13,
   "metadata": {},
   "outputs": [
    {
     "data": {
      "text/plain": [
       "article           700\n",
       "comment           700\n",
       "is_positive       700\n",
       "thumbs_up         700\n",
       "thumbs_down       700\n",
       "Unnamed: 5          1\n",
       "comments_clean    700\n",
       "dtype: int64"
      ]
     },
     "execution_count": 13,
     "metadata": {},
     "output_type": "execute_result"
    }
   ],
   "source": [
    "dtrain.count()"
   ]
  },
  {
   "cell_type": "code",
   "execution_count": 14,
   "metadata": {},
   "outputs": [
    {
     "data": {
      "text/plain": [
       "RandomForestClassifier(n_estimators=50, random_state=0)"
      ]
     },
     "execution_count": 14,
     "metadata": {},
     "output_type": "execute_result"
    }
   ],
   "source": [
    "from sklearn.ensemble import RandomForestClassifier\n",
    "RFC = RandomForestClassifier(n_estimators = 50, random_state = 0)\n",
    "RFC.fit(dtrain_att, dtrain_label)"
   ]
  },
  {
   "cell_type": "code",
   "execution_count": 15,
   "metadata": {},
   "outputs": [
    {
     "name": "stdout",
     "output_type": "stream",
     "text": [
      "<class 'pandas.core.frame.DataFrame'>\n",
      "RangeIndex: 1467 entries, 0 to 1466\n",
      "Data columns (total 7 columns):\n",
      "article           1467 non-null object\n",
      "comment           1467 non-null object\n",
      "is_positive       1467 non-null object\n",
      "thumbs_up         1467 non-null int64\n",
      "thumbs_down       1467 non-null int64\n",
      "Unnamed: 5        3 non-null float64\n",
      "comments_clean    1467 non-null object\n",
      "dtypes: float64(1), int64(2), object(4)\n",
      "memory usage: 80.4+ KB\n",
      "None\n"
     ]
    }
   ],
   "source": [
    "print(comments_df.info())"
   ]
  },
  {
   "cell_type": "code",
   "execution_count": 16,
   "metadata": {},
   "outputs": [
    {
     "data": {
      "text/plain": [
       "0.9985714285714286"
      ]
     },
     "execution_count": 16,
     "metadata": {},
     "output_type": "execute_result"
    }
   ],
   "source": [
    "RFC.score(dtrain_att, dtrain_label)"
   ]
  },
  {
   "cell_type": "code",
   "execution_count": 17,
   "metadata": {},
   "outputs": [
    {
     "data": {
      "text/plain": [
       "array([[626,   1],\n",
       "       [  0,  73]])"
      ]
     },
     "execution_count": 17,
     "metadata": {},
     "output_type": "execute_result"
    }
   ],
   "source": [
    "from sklearn.metrics import confusion_matrix\n",
    "y_pred = RFC.predict(dtrain_att)\n",
    "confusion_matrix(y_pred, dtrain_label)"
   ]
  },
  {
   "cell_type": "code",
   "execution_count": 18,
   "metadata": {},
   "outputs": [
    {
     "data": {
      "text/plain": [
       "Pipeline(steps=[('countvectorizer', CountVectorizer()),\n",
       "                ('randomforestclassifier', RandomForestClassifier())])"
      ]
     },
     "execution_count": 18,
     "metadata": {},
     "output_type": "execute_result"
    }
   ],
   "source": [
    "from sklearn.pipeline import Pipeline,make_pipeline\n",
    "pl = Pipeline([\n",
    " ('bag of words: ', CountVectorizer()),\n",
    " ('Random Forest Classifier:', RandomForestClassifier())])\n",
    "make_pipeline(CountVectorizer(), RandomForestClassifier())"
   ]
  },
  {
   "cell_type": "code",
   "execution_count": 19,
   "metadata": {},
   "outputs": [],
   "source": [
    "dshuf = comments_df.sample(frac=1)\n",
    "d_content = dshuf['comments_clean']\n",
    "d_label = dshuf['is_positive']"
   ]
  },
  {
   "cell_type": "code",
   "execution_count": 20,
   "metadata": {},
   "outputs": [
    {
     "data": {
      "text/plain": [
       "1406    0\n",
       "374     0\n",
       "332     0\n",
       "643     0\n",
       "1455    0\n",
       "       ..\n",
       "277     0\n",
       "429     0\n",
       "483     0\n",
       "1361    1\n",
       "1369    0\n",
       "Name: is_positive, Length: 149, dtype: object"
      ]
     },
     "execution_count": 20,
     "metadata": {},
     "output_type": "execute_result"
    }
   ],
   "source": [
    "d_label[:149]"
   ]
  },
  {
   "cell_type": "code",
   "execution_count": 21,
   "metadata": {},
   "outputs": [
    {
     "data": {
      "text/plain": [
       "1406                            dostala spadek to ja stac\n",
       "374                              niech się cieszy że zyje\n",
       "332                          a co jej tak psychika siadła\n",
       "643                                      tvn i wole media\n",
       "1455    chora tylko jej dziecko robi kupe nie ludzie s...\n",
       "                              ...                        \n",
       "277     ale julka była pewna że ten barto ją wybierze ...\n",
       "429                                           karma wraca\n",
       "483                skad on w ogole ma kasę na to wszystko\n",
       "1361                aniu kochamy cie ja też ciebie kocham\n",
       "1369    bardzo dobrze ze nie jest juz jurorka nie nada...\n",
       "Name: comments_clean, Length: 149, dtype: object"
      ]
     },
     "execution_count": 21,
     "metadata": {},
     "output_type": "execute_result"
    }
   ],
   "source": [
    "d_content[:149]"
   ]
  },
  {
   "cell_type": "code",
   "execution_count": 22,
   "metadata": {},
   "outputs": [
    {
     "data": {
      "text/plain": [
       "Pipeline(steps=[('bag of words: ', CountVectorizer()),\n",
       "                ('Random Forest Classifier:', RandomForestClassifier())])"
      ]
     },
     "execution_count": 22,
     "metadata": {},
     "output_type": "execute_result"
    }
   ],
   "source": [
    "pl.fit(d_content[:1466],d_label[:1466])"
   ]
  },
  {
   "cell_type": "code",
   "execution_count": 23,
   "metadata": {},
   "outputs": [
    {
     "data": {
      "text/plain": [
       "1.0"
      ]
     },
     "execution_count": 23,
     "metadata": {},
     "output_type": "execute_result"
    }
   ],
   "source": [
    "pl.score(d_content[:1466],d_label[:1466])"
   ]
  },
  {
   "cell_type": "code",
   "execution_count": 24,
   "metadata": {},
   "outputs": [
    {
     "data": {
      "text/plain": [
       "array(['0'], dtype=object)"
      ]
     },
     "execution_count": 24,
     "metadata": {},
     "output_type": "execute_result"
    }
   ],
   "source": [
    "pl.predict([\"jest słaba, przestańcie o niej pisać\"])"
   ]
  },
  {
   "cell_type": "code",
   "execution_count": 25,
   "metadata": {},
   "outputs": [
    {
     "data": {
      "text/plain": [
       "array(['1'], dtype=object)"
      ]
     },
     "execution_count": 25,
     "metadata": {},
     "output_type": "execute_result"
    }
   ],
   "source": [
    "pl.predict([\"lubię ją! super babka.\"])"
   ]
  },
  {
   "cell_type": "code",
   "execution_count": 26,
   "metadata": {},
   "outputs": [
    {
     "data": {
      "text/plain": [
       "array(['1'], dtype=object)"
      ]
     },
     "execution_count": 26,
     "metadata": {},
     "output_type": "execute_result"
    }
   ],
   "source": [
    "pl.predict([\"super jest! uwielbiam ją!\"])"
   ]
  },
  {
   "cell_type": "code",
   "execution_count": 27,
   "metadata": {},
   "outputs": [
    {
     "data": {
      "text/plain": [
       "array(['1'], dtype=object)"
      ]
     },
     "execution_count": 27,
     "metadata": {},
     "output_type": "execute_result"
    }
   ],
   "source": [
    "pl.predict([\"jest śliczna! super wygląda\"])"
   ]
  },
  {
   "cell_type": "code",
   "execution_count": 28,
   "metadata": {},
   "outputs": [
    {
     "data": {
      "text/plain": [
       "array(['0'], dtype=object)"
      ]
     },
     "execution_count": 28,
     "metadata": {},
     "output_type": "execute_result"
    }
   ],
   "source": [
    "pl.predict([\"żałosna, nie lubię jej.\"])"
   ]
  },
  {
   "cell_type": "code",
   "execution_count": 29,
   "metadata": {},
   "outputs": [
    {
     "data": {
      "text/plain": [
       "array(['1'], dtype=object)"
      ]
     },
     "execution_count": 29,
     "metadata": {},
     "output_type": "execute_result"
    }
   ],
   "source": [
    "pl.predict([\"wygląda ślicznie. ma super figurę. widać, że jest szczęśliwa!\"])"
   ]
  },
  {
   "cell_type": "code",
   "execution_count": 30,
   "metadata": {},
   "outputs": [
    {
     "data": {
      "text/plain": [
       "array(['0'], dtype=object)"
      ]
     },
     "execution_count": 30,
     "metadata": {},
     "output_type": "execute_result"
    }
   ],
   "source": [
    "pl.predict([\"wygląda staro, nie mogę na nią patrzeć\"])"
   ]
  },
  {
   "cell_type": "code",
   "execution_count": 31,
   "metadata": {},
   "outputs": [
    {
     "data": {
      "text/plain": [
       "array(['1'], dtype=object)"
      ]
     },
     "execution_count": 31,
     "metadata": {},
     "output_type": "execute_result"
    }
   ],
   "source": [
    "pl.predict([\"Gratulacje! Będą mieli śliczne dzieci!\"])"
   ]
  },
  {
   "cell_type": "code",
   "execution_count": 32,
   "metadata": {},
   "outputs": [
    {
     "data": {
      "text/plain": [
       "array(['0'], dtype=object)"
      ]
     },
     "execution_count": 32,
     "metadata": {},
     "output_type": "execute_result"
    }
   ],
   "source": [
    "pl.predict([\"Nie mogę na nich patrzeć, okropnie wygląda w tym kostiumie!\"])"
   ]
  },
  {
   "cell_type": "code",
   "execution_count": 33,
   "metadata": {},
   "outputs": [
    {
     "data": {
      "text/plain": [
       "array(['1'], dtype=object)"
      ]
     },
     "execution_count": 33,
     "metadata": {},
     "output_type": "execute_result"
    }
   ],
   "source": [
    "pl.predict([\"Wreszcie normalna babka!\"])"
   ]
  },
  {
   "cell_type": "code",
   "execution_count": 34,
   "metadata": {},
   "outputs": [
    {
     "data": {
      "text/plain": [
       "array(['0'], dtype=object)"
      ]
     },
     "execution_count": 34,
     "metadata": {},
     "output_type": "execute_result"
    }
   ],
   "source": [
    "pl.predict([\"Ile można o nich pisać?\"])"
   ]
  }
 ],
 "metadata": {
  "kernelspec": {
   "display_name": "Python 3",
   "language": "python",
   "name": "python3"
  },
  "language_info": {
   "codemirror_mode": {
    "name": "ipython",
    "version": 3
   },
   "file_extension": ".py",
   "mimetype": "text/x-python",
   "name": "python",
   "nbconvert_exporter": "python",
   "pygments_lexer": "ipython3",
   "version": "3.6.9"
  }
 },
 "nbformat": 4,
 "nbformat_minor": 4
}
